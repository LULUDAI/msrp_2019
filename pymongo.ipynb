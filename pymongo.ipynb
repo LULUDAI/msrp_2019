{
 "cells": [
  {
   "cell_type": "code",
   "execution_count": 4,
   "metadata": {},
   "outputs": [],
   "source": [
    "#This loads required libraries. \n",
    "import importlib\n",
    "import ruamel.yaml\n",
    "import pymongo\n",
    "from pymongo import MongoClient#A .yaml file\n",
    "cf_file=\"vm.yaml\"\n",
    "with open(cf_file, 'r') as yaml:\n",
    "    cf=ruamel.yaml.round_trip_load(yaml, preserve_quotes=True)\n",
    "client = MongoClient(cf['mongo_uri'])\n",
    "db = client[cf['mongo_db']]\n",
    "\n",
    "#process = cp.CrunchBaseProcessor('mac.yaml')\n",
    "#total=process.count_mongo()"
   ]
  },
  {
   "cell_type": "code",
   "execution_count": 5,
   "metadata": {},
   "outputs": [],
   "source": [
    "import pandas as pd\n",
    "#This obtains all documents in a collection.  In the \"find\" is where you have a specific query. \n",
    "collection = db.acquisitions\n",
    "#Tutorial\n",
    "#https://docs.mongodb.com/manual/tutorial/project-fields-from-query-results/\n",
    "cursor = collection.find({ }, { 'data.relationships.acquiree.item.uuid': 1, 'data.relationships.acquiree.item.properties.permalink': 1,  \n",
    "                                'data.relationships.acquirer.item.uuid': 1, 'data.relationships.acquirer.item.properties.permalink': 1, \n",
    "                                '_id':0} )"
   ]
  },
  {
   "cell_type": "code",
   "execution_count": 6,
   "metadata": {},
   "outputs": [
    {
     "data": {
      "text/html": [
       "<div>\n",
       "<style>\n",
       "    .dataframe thead tr:only-child th {\n",
       "        text-align: right;\n",
       "    }\n",
       "\n",
       "    .dataframe thead th {\n",
       "        text-align: left;\n",
       "    }\n",
       "\n",
       "    .dataframe tbody tr th {\n",
       "        vertical-align: top;\n",
       "    }\n",
       "</style>\n",
       "<table border=\"1\" class=\"dataframe\">\n",
       "  <thead>\n",
       "    <tr style=\"text-align: right;\">\n",
       "      <th></th>\n",
       "      <th>data</th>\n",
       "    </tr>\n",
       "  </thead>\n",
       "  <tbody>\n",
       "    <tr>\n",
       "      <th>0</th>\n",
       "      <td>{'relationships': {'acquiree': {'item': {'uuid...</td>\n",
       "    </tr>\n",
       "    <tr>\n",
       "      <th>1</th>\n",
       "      <td>{'relationships': {'acquiree': {'item': {'uuid...</td>\n",
       "    </tr>\n",
       "    <tr>\n",
       "      <th>2</th>\n",
       "      <td>{'relationships': {'acquiree': {'item': {'uuid...</td>\n",
       "    </tr>\n",
       "    <tr>\n",
       "      <th>3</th>\n",
       "      <td>{'relationships': {'acquiree': {'item': {'uuid...</td>\n",
       "    </tr>\n",
       "    <tr>\n",
       "      <th>4</th>\n",
       "      <td>{'relationships': {'acquiree': {'item': {'uuid...</td>\n",
       "    </tr>\n",
       "  </tbody>\n",
       "</table>\n",
       "</div>"
      ],
      "text/plain": [
       "                                                data\n",
       "0  {'relationships': {'acquiree': {'item': {'uuid...\n",
       "1  {'relationships': {'acquiree': {'item': {'uuid...\n",
       "2  {'relationships': {'acquiree': {'item': {'uuid...\n",
       "3  {'relationships': {'acquiree': {'item': {'uuid...\n",
       "4  {'relationships': {'acquiree': {'item': {'uuid..."
      ]
     },
     "execution_count": 6,
     "metadata": {},
     "output_type": "execute_result"
    }
   ],
   "source": [
    "cursor_df = pd.DataFrame(list(cursor))\n",
    "cursor_df.head()"
   ]
  },
  {
   "cell_type": "code",
   "execution_count": 10,
   "metadata": {},
   "outputs": [],
   "source": [
    "# df_all = pd.DataFrame(columns=['acquiree_uuid','acquiree_permalink','acquirer_uuid','acquirer_permalink'])\n",
    "# for document in cursor_df['data']:\n",
    "#     df_all = df_all.append({'acquiree_uuid':document['relationships']['acquiree']['item']['uuid'],\n",
    "#                    'acquiree_permalink':document['relationships']['acquiree']['item']['properties']['permalink'],\n",
    "#                    'acquirer_uuid':document['relationships']['acquirer']['item']['uuid'],\n",
    "#                    'acquirer_permalink':document['relationships']['acquirer']['item']['properties']['permalink']},\n",
    "#                     ignore_index=True)\n",
    "\n",
    "# df_all.head()"
   ]
  },
  {
   "cell_type": "code",
   "execution_count": 13,
   "metadata": {},
   "outputs": [
    {
     "data": {
      "text/html": [
       "<div>\n",
       "<style>\n",
       "    .dataframe thead tr:only-child th {\n",
       "        text-align: right;\n",
       "    }\n",
       "\n",
       "    .dataframe thead th {\n",
       "        text-align: left;\n",
       "    }\n",
       "\n",
       "    .dataframe tbody tr th {\n",
       "        vertical-align: top;\n",
       "    }\n",
       "</style>\n",
       "<table border=\"1\" class=\"dataframe\">\n",
       "  <thead>\n",
       "    <tr style=\"text-align: right;\">\n",
       "      <th></th>\n",
       "      <th>data</th>\n",
       "      <th>acquiree_uuid</th>\n",
       "      <th>acquiree_permalink</th>\n",
       "      <th>acquirer_uuid</th>\n",
       "      <th>acquirer_permalink</th>\n",
       "    </tr>\n",
       "  </thead>\n",
       "  <tbody>\n",
       "    <tr>\n",
       "      <th>0</th>\n",
       "      <td>{'relationships': {'acquiree': {'item': {'uuid...</td>\n",
       "      <td>b241aba65c5634767ef0026ea8921ddb</td>\n",
       "      <td>onyx-pharmaceuticals</td>\n",
       "      <td>42cd77d59fd6a2ce63ec45eebd518709</td>\n",
       "      <td>amgen-2</td>\n",
       "    </tr>\n",
       "    <tr>\n",
       "      <th>1</th>\n",
       "      <td>{'relationships': {'acquiree': {'item': {'uuid...</td>\n",
       "      <td>f0a575ab48245c74b8eb5e79a2e851da</td>\n",
       "      <td>’compass-solutions</td>\n",
       "      <td>d1c4cc8d833144830a1a583abb11c794</td>\n",
       "      <td>alphapoint-technology</td>\n",
       "    </tr>\n",
       "    <tr>\n",
       "      <th>2</th>\n",
       "      <td>{'relationships': {'acquiree': {'item': {'uuid...</td>\n",
       "      <td>fcff20f257e979915b208238770328f2</td>\n",
       "      <td>comfort-living</td>\n",
       "      <td>063ec1d62bc5dbf0bc6d0686ff6548a4</td>\n",
       "      <td>more-com</td>\n",
       "    </tr>\n",
       "    <tr>\n",
       "      <th>3</th>\n",
       "      <td>{'relationships': {'acquiree': {'item': {'uuid...</td>\n",
       "      <td>4746a915f5f0445aa3a6b90db3e71c5f</td>\n",
       "      <td>afw-uk-oil-gas</td>\n",
       "      <td>5a3eec7f01b834d2e235b95751cf7983</td>\n",
       "      <td>worleyparsons</td>\n",
       "    </tr>\n",
       "    <tr>\n",
       "      <th>4</th>\n",
       "      <td>{'relationships': {'acquiree': {'item': {'uuid...</td>\n",
       "      <td>b19d036149d9d8105471eef3fb36ce34</td>\n",
       "      <td>jt-usa-inc</td>\n",
       "      <td>c9b88a3c4e97f4b0dc128ce22b62775e</td>\n",
       "      <td>brass-eagle</td>\n",
       "    </tr>\n",
       "  </tbody>\n",
       "</table>\n",
       "</div>"
      ],
      "text/plain": [
       "                                                data  \\\n",
       "0  {'relationships': {'acquiree': {'item': {'uuid...   \n",
       "1  {'relationships': {'acquiree': {'item': {'uuid...   \n",
       "2  {'relationships': {'acquiree': {'item': {'uuid...   \n",
       "3  {'relationships': {'acquiree': {'item': {'uuid...   \n",
       "4  {'relationships': {'acquiree': {'item': {'uuid...   \n",
       "\n",
       "                      acquiree_uuid    acquiree_permalink  \\\n",
       "0  b241aba65c5634767ef0026ea8921ddb  onyx-pharmaceuticals   \n",
       "1  f0a575ab48245c74b8eb5e79a2e851da    ’compass-solutions   \n",
       "2  fcff20f257e979915b208238770328f2        comfort-living   \n",
       "3  4746a915f5f0445aa3a6b90db3e71c5f        afw-uk-oil-gas   \n",
       "4  b19d036149d9d8105471eef3fb36ce34            jt-usa-inc   \n",
       "\n",
       "                      acquirer_uuid     acquirer_permalink  \n",
       "0  42cd77d59fd6a2ce63ec45eebd518709                amgen-2  \n",
       "1  d1c4cc8d833144830a1a583abb11c794  alphapoint-technology  \n",
       "2  063ec1d62bc5dbf0bc6d0686ff6548a4               more-com  \n",
       "3  5a3eec7f01b834d2e235b95751cf7983          worleyparsons  \n",
       "4  c9b88a3c4e97f4b0dc128ce22b62775e            brass-eagle  "
      ]
     },
     "execution_count": 13,
     "metadata": {},
     "output_type": "execute_result"
    }
   ],
   "source": [
    "cursor_df['acquiree_uuid'] = cursor_df['data'].apply(lambda x: x['relationships']['acquiree']['item']['uuid'])\n",
    "cursor_df['acquiree_permalink'] = cursor_df['data'].apply(lambda x: x['relationships']['acquiree']['item']['properties']['permalink'])\n",
    "cursor_df['acquirer_uuid'] = cursor_df['data'].apply(lambda x: x['relationships']['acquirer']['item']['uuid'])\n",
    "cursor_df['acquirer_permalink'] = cursor_df['data'].apply(lambda x: x['relationships']['acquirer']['item']['properties']['permalink'])\n",
    "cursor_df.head()"
   ]
  },
  {
   "cell_type": "code",
   "execution_count": 16,
   "metadata": {},
   "outputs": [],
   "source": [
    "cursor_df.drop(['data'],axis=1).to_csv('task1_uuid&permalink.csv')"
   ]
  },
  {
   "cell_type": "code",
   "execution_count": null,
   "metadata": {},
   "outputs": [],
   "source": []
  }
 ],
 "metadata": {
  "kernelspec": {
   "display_name": "Python 3",
   "language": "python",
   "name": "python3"
  },
  "language_info": {
   "codemirror_mode": {
    "name": "ipython",
    "version": 3
   },
   "file_extension": ".py",
   "mimetype": "text/x-python",
   "name": "python",
   "nbconvert_exporter": "python",
   "pygments_lexer": "ipython3",
   "version": "3.6.2rc2"
  }
 },
 "nbformat": 4,
 "nbformat_minor": 2
}
