{
 "cells": [
  {
   "cell_type": "code",
   "execution_count": null,
   "metadata": {},
   "outputs": [],
   "source": [
    "#This loads required libraries. \n",
    "import importlib\n",
    "import mongoparser as mp\n",
    "importlib.reload(mp)  # \n",
    "\n",
    "#Load the configuration\n",
    "cf=mp.load_config(\"vm.yaml\")\n",
    "\n",
    "\n",
    "cf['db']=mp.connect_mongo(cf) #connect to mongo\n",
    "cf['db-acquisitions']=cf['db'].acquisitions #create the acquisitions collection connection. \n",
    "out=mp.get_collection(cf, \"acquisitions\")  #get the acquisitions. \n",
    "\n",
    "out.sh"
   ]
  },
  {
   "cell_type": "code",
   "execution_count": null,
   "metadata": {},
   "outputs": [],
   "source": []
  },
  {
   "cell_type": "code",
   "execution_count": null,
   "metadata": {},
   "outputs": [],
   "source": [
    "out.to_csv(\"acquisitions.csv\", index=False)"
   ]
  },
  {
   "cell_type": "code",
   "execution_count": null,
   "metadata": {},
   "outputs": [],
   "source": [
    "out.shape"
   ]
  },
  {
   "cell_type": "code",
   "execution_count": null,
   "metadata": {},
   "outputs": [],
   "source": []
  }
 ],
 "metadata": {
  "kernelspec": {
   "display_name": "Python 3",
   "language": "python",
   "name": "python3"
  },
  "language_info": {
   "codemirror_mode": {
    "name": "ipython",
    "version": 3
   },
   "file_extension": ".py",
   "mimetype": "text/x-python",
   "name": "python",
   "nbconvert_exporter": "python",
   "pygments_lexer": "ipython3",
   "version": "3.6.3"
  }
 },
 "nbformat": 4,
 "nbformat_minor": 2
}
